{
 "cells": [
  {
   "cell_type": "code",
   "execution_count": 1,
   "metadata": {
    "collapsed": false
   },
   "outputs": [],
   "source": [
    "import warnings\n",
    "warnings.filterwarnings('ignore') \n",
    "import csv\n",
    "import numpy as np\n",
    "import scipy.sparse as spr\n",
    "import pandas as pd\n",
    "\n",
    "with open('telecom_churn.csv', 'rt') as f:\n",
    "    data = list(csv.DictReader(f))\n",
    "data[:1]\n",
    "for i in range(len(data)):\n",
    "    data[i]['Churn'] = 1 if data[i]['Churn'] == 'True' else 0"
   ]
  },
  {
   "cell_type": "code",
   "execution_count": 2,
   "metadata": {
    "collapsed": false
   },
   "outputs": [
    {
     "name": "stdout",
     "output_type": "stream",
     "text": [
      "3333 items total\n"
     ]
    }
   ],
   "source": [
    "from sklearn.utils import shuffle\n",
    "from sklearn.model_selection import train_test_split\n",
    "\n",
    "_all_xs = [{k: v for k, v in row.items() if k != 'Churn'} for row in data]\n",
    "_all_ys = np.array([int(row['Churn']) for row in data])\n",
    "\n",
    "all_xs, all_ys = shuffle(_all_xs, _all_ys, random_state=0)\n",
    "train_xs, valid_xs, train_ys, valid_ys = train_test_split(\n",
    "    all_xs, all_ys, test_size=0.25, random_state=0)\n",
    "\n",
    "print('{} items total'.format(len(all_xs)))"
   ]
  },
  {
   "cell_type": "code",
   "execution_count": 3,
   "metadata": {
    "collapsed": false
   },
   "outputs": [
    {
     "name": "stdout",
     "output_type": "stream",
     "text": [
      "Accuracy: 0.8788 ± 0.0195\n"
     ]
    }
   ],
   "source": [
    "warnings.filterwarnings('ignore', category=DeprecationWarning)\n",
    "from xgboost import XGBClassifier\n",
    "from sklearn.feature_extraction import DictVectorizer\n",
    "from sklearn.pipeline import make_pipeline\n",
    "from sklearn.model_selection import cross_val_score\n",
    "\n",
    "class CSCTransformer:\n",
    "    def transform(self, xs):\n",
    "        return xs.tocsc()\n",
    "    def fit(self, *args):\n",
    "        return self\n",
    "    \n",
    "clf = XGBClassifier()\n",
    "vec = DictVectorizer()\n",
    "pipeline = make_pipeline(vec, CSCTransformer(), clf)\n",
    "\n",
    "def evaluate(_clf):\n",
    "    scores = cross_val_score(_clf, all_xs, all_ys, scoring='accuracy', cv=10)\n",
    "    print('Accuracy: {:.4f} ± {:.4f}'.format(np.mean(scores), 2 * np.std(scores)))\n",
    "    _clf.fit(train_xs, train_ys)  # so that parts of the original pipeline are fitted\n",
    "     \n",
    "evaluate(pipeline)"
   ]
  },
  {
   "cell_type": "code",
   "execution_count": 4,
   "metadata": {
    "collapsed": false
   },
   "outputs": [],
   "source": [
    "from xgboostinterpreter import xgboostinterpreter as xgbi"
   ]
  },
  {
   "cell_type": "code",
   "execution_count": 5,
   "metadata": {
    "collapsed": false
   },
   "outputs": [
    {
     "name": "stdout",
     "output_type": "stream",
     "text": [
      "+-----------+------------------------+-------+\n",
      "|    Weight | Feature                | Value |\n",
      "+-----------+------------------------+-------+\n",
      "| 0.0498887 | International plan     |    No |\n",
      "| 0.0475853 | Customer service calls |     4 |\n",
      "| 0.0452156 | Total intl calls       |     2 |\n",
      "| 0.0414905 | Customer service calls |     5 |\n",
      "| 0.0312565 | Total intl calls       |     1 |\n",
      "| 0.0292658 | Customer service calls |     6 |\n",
      "| 0.0248381 | Number vmail messages  |     0 |\n",
      "| 0.0180267 | State                  |    NJ |\n",
      "| 0.0179378 | State                  |    TX |\n",
      "| 0.0172371 | Total day calls        |   106 |\n",
      "| 0.0169974 | Total intl charge      |  3.75 |\n",
      "| 0.0153934 | Account length         |   133 |\n",
      "|  0.015176 | Total day calls        |   125 |\n",
      "| 0.0149604 | Total night calls      |   132 |\n",
      "| 0.0146561 | Total day calls        |   124 |\n",
      "+-----------+------------------------+-------+\n"
     ]
    }
   ],
   "source": [
    "xgbi.weight(clf, vec, 15)"
   ]
  },
  {
   "cell_type": "code",
   "execution_count": 6,
   "metadata": {
    "collapsed": false
   },
   "outputs": [
    {
     "name": "stdout",
     "output_type": "stream",
     "text": [
      "Answer:  0\n",
      "with probability:  0.710383\n",
      "+--------------+------------------------+-------+\n",
      "| Contribution | Feature                | Value |\n",
      "+--------------+------------------------+-------+\n",
      "|     1.176790 | Total night calls      |   132 |\n",
      "|     0.183176 | Number vmail messages  |     0 |\n",
      "|     0.041739 | Customer service calls |     1 |\n",
      "|     0.007670 | Total night calls      |   113 |\n",
      "|     0.005896 | Total night calls      |    92 |\n",
      "|     0.005811 | Account length         |    87 |\n",
      "|     0.005522 | Total night calls      |    96 |\n",
      "|     0.004717 | Total day calls        |   107 |\n",
      "|     0.004552 | Total night calls      |   110 |\n",
      "|     0.003040 | State                  |    IL |\n",
      "|     0.002366 | Total intl charge      |  2.54 |\n",
      "|     0.002361 | Total day calls        |    98 |\n",
      "|     0.002302 | State                  |    WI |\n",
      "|     0.002215 | State                  |    VA |\n",
      "|     0.002130 | Total intl charge      |  3.02 |\n",
      "|     0.002013 | Total day calls        |    70 |\n",
      "|     0.001759 | Total eve calls        |    98 |\n",
      "|     0.001707 | State                  |    IA |\n",
      "|     0.001387 | Total eve calls        |    76 |\n",
      "|     0.000821 | Total intl charge      |  2.08 |\n",
      "|     0.000728 | Total intl charge      |  3.27 |\n",
      "+--------------+------------------------+-------+\n"
     ]
    }
   ],
   "source": [
    "xgbi.predict(clf, valid_xs[0], vec)"
   ]
  }
 ],
 "metadata": {
  "kernelspec": {
   "display_name": "Python 3",
   "language": "python",
   "name": "python3"
  },
  "language_info": {
   "codemirror_mode": {
    "name": "ipython",
    "version": 3
   },
   "file_extension": ".py",
   "mimetype": "text/x-python",
   "name": "python",
   "nbconvert_exporter": "python",
   "pygments_lexer": "ipython3",
   "version": "3.6.0"
  }
 },
 "nbformat": 4,
 "nbformat_minor": 2
}
