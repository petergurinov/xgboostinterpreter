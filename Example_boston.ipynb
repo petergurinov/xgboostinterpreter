{
 "cells": [
  {
   "cell_type": "code",
   "execution_count": 1,
   "metadata": {
    "collapsed": false
   },
   "outputs": [],
   "source": [
    "import warnings\n",
    "warnings.filterwarnings('ignore') \n",
    "import csv\n",
    "import numpy as np\n",
    "import scipy.sparse as spr\n",
    "import pandas as pd\n",
    "\n",
    "with open('boston.csv', 'rt') as f:\n",
    "    data = list(csv.DictReader(f))"
   ]
  },
  {
   "cell_type": "code",
   "execution_count": 2,
   "metadata": {
    "collapsed": false
   },
   "outputs": [
    {
     "name": "stdout",
     "output_type": "stream",
     "text": [
      "506 items total\n"
     ]
    }
   ],
   "source": [
    "from sklearn.utils import shuffle\n",
    "from sklearn.model_selection import train_test_split\n",
    "\n",
    "_all_xs = [{k: v for k, v in row.items() if k != 'TARGET'} for row in data]\n",
    "_all_ys = np.array([float(row['TARGET']) for row in data])\n",
    "\n",
    "all_xs, all_ys = shuffle(_all_xs, _all_ys, random_state=0)\n",
    "train_xs, valid_xs, train_ys, valid_ys = train_test_split(\n",
    "    all_xs, all_ys, test_size=0.25, random_state=0)\n",
    "\n",
    "print('{} items total'.format(len(all_xs)))"
   ]
  },
  {
   "cell_type": "code",
   "execution_count": 3,
   "metadata": {
    "collapsed": false
   },
   "outputs": [
    {
     "name": "stdout",
     "output_type": "stream",
     "text": [
      "Acc: 0.6751 ± 0.2158\n"
     ]
    }
   ],
   "source": [
    "warnings.filterwarnings('ignore', category=DeprecationWarning)\n",
    "from xgboost import XGBRegressor\n",
    "from sklearn.feature_extraction import DictVectorizer\n",
    "from sklearn.pipeline import make_pipeline\n",
    "from sklearn.model_selection import cross_val_score\n",
    "\n",
    "class CSCTransformer:\n",
    "    def transform(self, xs):\n",
    "        return xs.tocsc()\n",
    "    def fit(self, *args):\n",
    "        return self\n",
    "    \n",
    "clf = XGBRegressor()\n",
    "vec = DictVectorizer()\n",
    "pipeline = make_pipeline(vec, CSCTransformer(), clf)\n",
    "\n",
    "def evaluate(_clf):\n",
    "    scores = cross_val_score(_clf, all_xs, all_ys, cv=10)\n",
    "    print('Acc: {:.4f} ± {:.4f}'.format(np.mean(scores), 2 * np.std(scores)))\n",
    "    _clf.fit(train_xs, train_ys)\n",
    "     \n",
    "evaluate(pipeline)"
   ]
  },
  {
   "cell_type": "code",
   "execution_count": 4,
   "metadata": {
    "collapsed": false
   },
   "outputs": [],
   "source": [
    "from xgboostinterpreter import xgboostinterpreter as xgbi"
   ]
  },
  {
   "cell_type": "code",
   "execution_count": 5,
   "metadata": {
    "collapsed": false
   },
   "outputs": [
    {
     "name": "stdout",
     "output_type": "stream",
     "text": [
      "+-----------+---------+-------------+\n",
      "|    Weight | Feature |       Value |\n",
      "+-----------+---------+-------------+\n",
      "|  0.172535 | INDUS   | 18.10000038 |\n",
      "|  0.122612 | MV      |          50 |\n",
      "| 0.0817789 | PT      | 20.20000076 |\n",
      "| 0.0477658 | ZN      |           0 |\n",
      "| 0.0384741 | RAD     |           4 |\n",
      "| 0.0269798 | INDUS   | 6.199999809 |\n",
      "| 0.0210037 | ZN      |          20 |\n",
      "| 0.0177974 | DIS     | 3.495199919 |\n",
      "| 0.0174249 | NOX     | 0.504000008 |\n",
      "| 0.0172703 | ZN      |        12.5 |\n",
      "| 0.0172297 | NOX     | 0.870999992 |\n",
      "|  0.016497 | PT      |          21 |\n",
      "| 0.0163267 | INDUS   | 2.460000038 |\n",
      "| 0.0147658 | ZN      |          95 |\n",
      "| 0.0145028 | NOX     | 0.693000019 |\n",
      "+-----------+---------+-------------+\n"
     ]
    }
   ],
   "source": [
    "xgbi.weight(clf, vec, 15)"
   ]
  },
  {
   "cell_type": "code",
   "execution_count": 6,
   "metadata": {
    "collapsed": false
   },
   "outputs": [
    {
     "name": "stdout",
     "output_type": "stream",
     "text": [
      "Answer:  25.6487\n",
      "+--------------+---------+-------------+\n",
      "| Contribution | Feature |       Value |\n",
      "+--------------+---------+-------------+\n",
      "|    21.695153 | <BIAS>  |             |\n",
      "|     2.556438 | ZN      |           0 |\n",
      "|     1.033927 | INDUS   | 18.10000038 |\n",
      "|     0.423321 | PT      | 20.20000076 |\n",
      "|     0.241702 | ZN      |        12.5 |\n",
      "|     0.208819 | RAD     |           4 |\n",
      "|     0.142460 | PT      |          21 |\n",
      "|     0.139414 | NOX     | 0.870999992 |\n",
      "|     0.073743 | NOX     | 0.693000019 |\n",
      "|     0.068698 | NOX     |  0.74000001 |\n",
      "|     0.056680 | INDUS   | 21.88999939 |\n",
      "|     0.056569 | INDUS   | 5.130000114 |\n",
      "|     0.044118 | NOX     | 0.699999988 |\n",
      "|     0.043046 | INDUS   | 27.73999977 |\n",
      "|     0.042861 | NOX     |  0.67900002 |\n",
      "|     0.035584 | RAD     |           6 |\n",
      "|     0.013775 | PT      | 19.10000038 |\n",
      "|     0.005259 | DIS     | 7.954899788 |\n",
      "|     0.004922 | LSTAT   | 30.80999947 |\n",
      "+--------------+---------+-------------+\n"
     ]
    }
   ],
   "source": [
    "xgbi.predict(clf, valid_xs[0], vec)"
   ]
  }
 ],
 "metadata": {
  "kernelspec": {
   "display_name": "Python 3",
   "language": "python",
   "name": "python3"
  },
  "language_info": {
   "codemirror_mode": {
    "name": "ipython",
    "version": 3
   },
   "file_extension": ".py",
   "mimetype": "text/x-python",
   "name": "python",
   "nbconvert_exporter": "python",
   "pygments_lexer": "ipython3",
   "version": "3.6.0"
  }
 },
 "nbformat": 4,
 "nbformat_minor": 2
}
